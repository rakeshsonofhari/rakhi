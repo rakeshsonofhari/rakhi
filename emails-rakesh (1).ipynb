{
 "cells": [
  {
   "cell_type": "code",
   "execution_count": 121,
   "id": "b0a4fee3",
   "metadata": {
    "scrolled": true
   },
   "outputs": [],
   "source": [
    "#libraries\n",
    "from os import listdir, path\n",
    "from lxml import etree\n",
    "\n",
    "#empty vectors\n",
    "dates = []\n",
    "namesfrom = []\n",
    "mailto = []\n",
    "body = []\n",
    "\n",
    "#retrieving each file in folder and fillinf vector with data from xml\n",
    "mypath = 'emails/'\n",
    "files = [path.join(mypath, f) for f in listdir(mypath) if f.endswith('.xml')]\n",
    "for file in files:\n",
    "    doc = etree.parse(file)\n",
    "    for elem in doc.findall('message'):\n",
    "        dates.append((elem.find(\"received/date\").text))\n",
    "        namesfrom.append((elem.find(\"from/name\").text))\n",
    "        mailto.append((elem.find(\"to/email\").text))    \n",
    "        body.append((elem.find(\"text\").text))   \n",
    " "
   ]
  },
  {
   "cell_type": "code",
   "execution_count": 122,
   "id": "051cb331",
   "metadata": {},
   "outputs": [],
   "source": [
    "#converting all vectors into a dataframe\n",
    "import pandas as pd\n",
    "dict = {'dates': dates, 'namesfrom': namesfrom, 'mailto': mailto, 'body': body} \n",
    "df = pd.DataFrame(dict)"
   ]
  },
  {
   "cell_type": "code",
   "execution_count": 138,
   "id": "41d21fd3",
   "metadata": {},
   "outputs": [],
   "source": [
    "#find in the body of emails a string, the return of the function is a dataframe\n",
    "search = search_df(df,'proud')"
   ]
  },
  {
   "cell_type": "code",
   "execution_count": null,
   "id": "fffaa5cf",
   "metadata": {},
   "outputs": [],
   "source": [
    "#frequencies of the field \"mailto\", related to the parties\n",
    "search.groupby(['mailto']).size()"
   ]
  },
  {
   "cell_type": "code",
   "execution_count": 137,
   "id": "c9f7fa16",
   "metadata": {},
   "outputs": [
    {
     "data": {
      "text/plain": [
       "[Text(0, 0, 'connod'),\n",
       " Text(1, 0, 'conservativeemail'),\n",
       " Text(2, 0, 'greennod'),\n",
       " Text(3, 0, 'greenparty'),\n",
       " Text(4, 0, 'liberal'),\n",
       " Text(5, 0, 'liberalnod'),\n",
       " Text(6, 0, 'ndp.ca'),\n",
       " Text(7, 0, 'ndpnod.ca')]"
      ]
     },
     "execution_count": 137,
     "metadata": {},
     "output_type": "execute_result"
    },
    {
     "data": {
      "image/png": "[encoded data removed]",
      "text/plain": [
       "<Figure size 432x288 with 1 Axes>"
      ]
     },
     "metadata": {
      "needs_background": "light"
     },
     "output_type": "display_data"
    }
   ],
   "source": [
    "#libraries to plot\n",
    "import matplotlib.pyplot as plt\n",
    "import numpy as np\n",
    "\n",
    "#generating frequencies, labels and plot\n",
    "frequencies = np.arange(8)\n",
    "freq_series = pd.Series(frequencies)\n",
    "x_labels = [\n",
    "    'connod',\n",
    "    'conservativeemail',\n",
    "    'greennod',\n",
    "    'greenparty',\n",
    "    'liberal',\n",
    "    'liberalnod',\n",
    "    'ndp.ca',\n",
    "    'ndpnod.ca',\n",
    "]\n",
    "plt.bar(x, search.groupby(['mailto']).size())\n",
    "ax = freq_series.plot(kind=\"bar\")\n",
    "ax.set_title(\"plot\")\n",
    "ax.set_xlabel(\"party\")\n",
    "ax.set_ylabel(\"Frequency\")\n",
    "ax.set_xticklabels(x_labels)"
   ]
  },
  {
   "cell_type": "code",
   "execution_count": 125,
   "id": "b6a5110c",
   "metadata": {},
   "outputs": [],
   "source": [
    "#function to search text in the body of the email\n",
    "def search_df(dataf,strin):\n",
    "    nf = df[df['body'].str.contains(strin)]\n",
    "    return(nf)"
   ]
  }
 ],
 "metadata": {
  "kernelspec": {
   "display_name": "Python 3",
   "language": "python",
   "name": "python3"
  },
  "language_info": {
   "codemirror_mode": {
    "name": "ipython",
    "version": 3
   },
   "file_extension": ".py",
   "mimetype": "text/x-python",
   "name": "python",
   "nbconvert_exporter": "python",
   "pygments_lexer": "ipython3",
   "version": "3.8.8"
  }
 },
 "nbformat": 4,
 "nbformat_minor": 5
}
